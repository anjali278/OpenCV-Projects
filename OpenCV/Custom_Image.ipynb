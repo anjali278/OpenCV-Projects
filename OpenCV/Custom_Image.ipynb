{
 "cells": [
  {
   "cell_type": "code",
   "execution_count": 1,
   "id": "f083cb4f",
   "metadata": {},
   "outputs": [],
   "source": [
    "import cv2"
   ]
  },
  {
   "cell_type": "code",
   "execution_count": 2,
   "id": "b46cb35a",
   "metadata": {},
   "outputs": [],
   "source": [
    "import numpy as np"
   ]
  },
  {
   "cell_type": "code",
   "execution_count": 3,
   "id": "688b9e36",
   "metadata": {},
   "outputs": [],
   "source": [
    "img1=np.zeros((500,500,3),np.uint8)\n",
    "img1=cv2.rectangle(img1,(110,215),(330,490),(0,170,240),-2)\n",
    "\n",
    "img2=np.zeros((500,500,3),np.uint8)\n",
    "img2=cv2.ellipse(img2,(240,320),(200,200),45,0,180,(0,170,240),-1)\n",
    "\n",
    "val1 = cv2.bitwise_and(img1,img2)"
   ]
  },
  {
   "cell_type": "code",
   "execution_count": 4,
   "id": "44a4a614",
   "metadata": {},
   "outputs": [],
   "source": [
    "img3=np.zeros((500,500,3),np.uint8)\n",
    "cv2.rectangle(img3,(10,200),(110,490),(22,40,85),-1)\n",
    "\n",
    "img4=np.zeros((500,500,3),np.uint8)\n",
    "cv2.ellipse(img4,(60,200),(50,20),180,0,180,(22,40,85),-1)\n",
    "\n",
    "val2 = cv2.bitwise_or(img3,img4)"
   ]
  },
  {
   "cell_type": "code",
   "execution_count": 5,
   "id": "e176dec9",
   "metadata": {},
   "outputs": [],
   "source": [
    "p1 = cv2.bitwise_or(val1,val2)"
   ]
  },
  {
   "cell_type": "code",
   "execution_count": 6,
   "id": "4699cb5d",
   "metadata": {},
   "outputs": [],
   "source": [
    "img5=np.zeros((500,500,3),np.uint8)\n",
    "img5=cv2.rectangle(img5,(280,150),(490,490),(15,90,120),-2)\n",
    "\n",
    "img6=np.zeros((500,500,3),np.uint8)\n",
    "img6=cv2.ellipse(img6,(320,280),(200,300),-70,0,180,(15,90,120),-1)\n",
    "\n",
    "val3 = cv2.bitwise_and(img5,img6)"
   ]
  },
  {
   "cell_type": "code",
   "execution_count": 7,
   "id": "d33bc68f",
   "metadata": {},
   "outputs": [],
   "source": [
    "img7=np.zeros((500,500,3),np.uint8)\n",
    "img7=cv2.rectangle(img7,(230,320),(420,490),(0,255,255),-2)\n",
    "\n",
    "img8=np.zeros((500,500,3),np.uint8)\n",
    "img8=cv2.ellipse(img8,(275,390),(120,170),-60,0,180,(0,255,225),-1)\n",
    "\n",
    "val4 = cv2.bitwise_and(img8,img7)"
   ]
  },
  {
   "cell_type": "code",
   "execution_count": 8,
   "id": "4b1495dd",
   "metadata": {},
   "outputs": [],
   "source": [
    "p2 = cv2.bitwise_or(val3,val4)"
   ]
  },
  {
   "cell_type": "code",
   "execution_count": 9,
   "id": "3b9218e9",
   "metadata": {},
   "outputs": [],
   "source": [
    "img9 = cv2.bitwise_or(p2,p1)"
   ]
  },
  {
   "cell_type": "code",
   "execution_count": 10,
   "id": "e622bb62",
   "metadata": {},
   "outputs": [],
   "source": [
    "img10=np.zeros((500,500,3),np.uint8)\n",
    "img10=cv2.circle(img10, center=(240,110), radius=80 , color=(20,50,60) , thickness=-1)\n",
    "final_img=cv2.bitwise_or(img9,img10)"
   ]
  },
  {
   "cell_type": "code",
   "execution_count": 11,
   "id": "3c5accea",
   "metadata": {},
   "outputs": [],
   "source": [
    "cv2.imshow('photo',final_img)\n",
    "cv2.waitKey(0)\n",
    "cv2.destroyAllWindows()"
   ]
  },
  {
   "cell_type": "code",
   "execution_count": null,
   "id": "f2a7b126",
   "metadata": {},
   "outputs": [],
   "source": []
  }
 ],
 "metadata": {
  "kernelspec": {
   "display_name": "Python 3",
   "language": "python",
   "name": "python3"
  },
  "language_info": {
   "codemirror_mode": {
    "name": "ipython",
    "version": 3
   },
   "file_extension": ".py",
   "mimetype": "text/x-python",
   "name": "python",
   "nbconvert_exporter": "python",
   "pygments_lexer": "ipython3",
   "version": "3.8.8"
  }
 },
 "nbformat": 4,
 "nbformat_minor": 5
}
