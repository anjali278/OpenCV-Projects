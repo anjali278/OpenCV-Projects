{
 "cells": [
  {
   "cell_type": "code",
   "execution_count": 1,
   "id": "d6be869f",
   "metadata": {},
   "outputs": [],
   "source": [
    "import numpy as np"
   ]
  },
  {
   "cell_type": "code",
   "execution_count": 2,
   "id": "f8850355",
   "metadata": {},
   "outputs": [],
   "source": [
    "import cv2"
   ]
  },
  {
   "cell_type": "code",
   "execution_count": 3,
   "id": "8a824509",
   "metadata": {},
   "outputs": [],
   "source": [
    "p1=cv2.imread('Dog1.jpg')\n",
    "p2=cv2.imread('Dog3.jpg')\n",
    "p3=cv2.imread('Horse.jpg')"
   ]
  },
  {
   "cell_type": "code",
   "execution_count": 4,
   "id": "7a0dcbde",
   "metadata": {},
   "outputs": [
    {
     "name": "stdout",
     "output_type": "stream",
     "text": [
      "(154, 189, 3)\n",
      "(283, 127, 3)\n",
      "(142, 189, 3)\n"
     ]
    }
   ],
   "source": [
    "print(p1.shape)\n",
    "print(p2.shape)\n",
    "print(p3.shape)"
   ]
  },
  {
   "cell_type": "code",
   "execution_count": 5,
   "id": "96e4c8f3",
   "metadata": {},
   "outputs": [
    {
     "name": "stdout",
     "output_type": "stream",
     "text": [
      "(154, 190, 3)\n",
      "(296, 127, 3)\n",
      "(142, 190, 3)\n"
     ]
    }
   ],
   "source": [
    "p1=cv2.resize(p1,(190,154))\n",
    "print(p1.shape)\n",
    "p2=cv2.resize(p2,(127,296))\n",
    "print(p2.shape)\n",
    "p3=cv2.resize(p3,(190,142))\n",
    "print(p3.shape)"
   ]
  },
  {
   "cell_type": "code",
   "execution_count": 6,
   "id": "ca866f9f",
   "metadata": {},
   "outputs": [],
   "source": [
    "merged_img1=np.vstack((p1,p3))\n",
    "stacked_image=np.hstack((p2, merged_img1))"
   ]
  },
  {
   "cell_type": "code",
   "execution_count": null,
   "id": "89c326ff",
   "metadata": {},
   "outputs": [],
   "source": [
    "cv2.imshow('Merged',stacked_image)\n",
    "cv2.waitKey()\n",
    "cv2.destroyAllWindows()"
   ]
  },
  {
   "cell_type": "code",
   "execution_count": null,
   "id": "c392fa7f",
   "metadata": {},
   "outputs": [],
   "source": []
  },
  {
   "cell_type": "code",
   "execution_count": null,
   "id": "d715bf54",
   "metadata": {},
   "outputs": [],
   "source": []
  }
 ],
 "metadata": {
  "kernelspec": {
   "display_name": "Python 3",
   "language": "python",
   "name": "python3"
  },
  "language_info": {
   "codemirror_mode": {
    "name": "ipython",
    "version": 3
   },
   "file_extension": ".py",
   "mimetype": "text/x-python",
   "name": "python",
   "nbconvert_exporter": "python",
   "pygments_lexer": "ipython3",
   "version": "3.8.8"
  }
 },
 "nbformat": 4,
 "nbformat_minor": 5
}
