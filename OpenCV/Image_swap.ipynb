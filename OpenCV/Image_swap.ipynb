{
 "cells": [
  {
   "cell_type": "code",
   "execution_count": 1,
   "id": "02d918b2",
   "metadata": {},
   "outputs": [],
   "source": [
    "import cv2"
   ]
  },
  {
   "cell_type": "code",
   "execution_count": 18,
   "id": "57916bdf",
   "metadata": {},
   "outputs": [],
   "source": [
    "baby = cv2.imread('baby.jpg')\n",
    "cv2.imshow('img1',baby)\n",
    "cv2.waitKey()\n",
    "cv2.destroyAllWindows()"
   ]
  },
  {
   "cell_type": "code",
   "execution_count": 3,
   "id": "119d5640",
   "metadata": {},
   "outputs": [
    {
     "data": {
      "text/plain": [
       "(297, 237, 3)"
      ]
     },
     "execution_count": 3,
     "metadata": {},
     "output_type": "execute_result"
    }
   ],
   "source": [
    "baby.shape"
   ]
  },
  {
   "cell_type": "code",
   "execution_count": 4,
   "id": "b12ecc4e",
   "metadata": {},
   "outputs": [],
   "source": [
    "model1 = cv2.CascadeClassifier('haarcascade_frontalface_default.xml')"
   ]
  },
  {
   "cell_type": "code",
   "execution_count": 5,
   "id": "ad252912",
   "metadata": {},
   "outputs": [
    {
     "name": "stdout",
     "output_type": "stream",
     "text": [
      "[[ 30  46 179 179]]\n"
     ]
    }
   ],
   "source": [
    "pos1=model1.detectMultiScale(baby)\n",
    "print(pos1)"
   ]
  },
  {
   "cell_type": "code",
   "execution_count": 6,
   "id": "01a0e4cf",
   "metadata": {},
   "outputs": [],
   "source": [
    "x1=pos1[0][0]\n",
    "y1=pos1[0][1]\n",
    "x2=x1+pos1[0][2]\n",
    "y2=y1+pos1[0][3]"
   ]
  },
  {
   "cell_type": "code",
   "execution_count": 7,
   "id": "50bfc6f1",
   "metadata": {},
   "outputs": [
    {
     "name": "stdout",
     "output_type": "stream",
     "text": [
      "(179, 179, 3)\n"
     ]
    }
   ],
   "source": [
    "b_face=baby[y1:y2,x1:x2]\n",
    "print(b_face.shape)\n",
    "cv2.imshow('pic2', b_face)\n",
    "cv2.waitKey()\n",
    "cv2.destroyAllWindows()"
   ]
  },
  {
   "cell_type": "code",
   "execution_count": 19,
   "id": "2519e38f",
   "metadata": {},
   "outputs": [],
   "source": [
    "man = cv2.imread('man.jpg')\n",
    "cv2.imshow('img2',man)\n",
    "cv2.waitKey()\n",
    "cv2.destroyAllWindows()"
   ]
  },
  {
   "cell_type": "code",
   "execution_count": 9,
   "id": "a8e59d54",
   "metadata": {},
   "outputs": [
    {
     "data": {
      "text/plain": [
       "(448, 300, 3)"
      ]
     },
     "execution_count": 9,
     "metadata": {},
     "output_type": "execute_result"
    }
   ],
   "source": [
    "man.shape"
   ]
  },
  {
   "cell_type": "code",
   "execution_count": 10,
   "id": "259f49b4",
   "metadata": {},
   "outputs": [],
   "source": [
    "model2 = cv2.CascadeClassifier('haarcascade_frontalface_default.xml')"
   ]
  },
  {
   "cell_type": "code",
   "execution_count": 11,
   "id": "05c50005",
   "metadata": {},
   "outputs": [
    {
     "name": "stdout",
     "output_type": "stream",
     "text": [
      "[[ 78  39 125 125]]\n"
     ]
    }
   ],
   "source": [
    "pos2=model2.detectMultiScale(man)\n",
    "print(pos2)"
   ]
  },
  {
   "cell_type": "code",
   "execution_count": 12,
   "id": "7a69f6d4",
   "metadata": {},
   "outputs": [],
   "source": [
    "x3=pos2[0][0]\n",
    "y3=pos2[0][1]\n",
    "x4=x3+pos2[0][2]\n",
    "y4=y3+pos2[0][3]"
   ]
  },
  {
   "cell_type": "code",
   "execution_count": 13,
   "id": "45cbe682",
   "metadata": {},
   "outputs": [
    {
     "name": "stdout",
     "output_type": "stream",
     "text": [
      "(125, 125, 3)\n"
     ]
    }
   ],
   "source": [
    "m_face=man[y3:y4,x3:x4]\n",
    "print(m_face.shape)\n",
    "cv2.imshow('pic1', m_face)\n",
    "cv2.waitKey()\n",
    "cv2.destroyAllWindows()"
   ]
  },
  {
   "cell_type": "code",
   "execution_count": null,
   "id": "7c1a2571",
   "metadata": {},
   "outputs": [],
   "source": []
  },
  {
   "cell_type": "code",
   "execution_count": 14,
   "id": "46de3a02",
   "metadata": {},
   "outputs": [
    {
     "name": "stdout",
     "output_type": "stream",
     "text": [
      "(125, 125, 3)\n"
     ]
    }
   ],
   "source": [
    "#resize baby's face to fit man's face\n",
    "b_resize=cv2.resize(b_face,(int(b_face.shape[0]/1.43),int(b_face.shape[1]/1.43)))\n",
    "print(b_resize.shape)"
   ]
  },
  {
   "cell_type": "code",
   "execution_count": 15,
   "id": "5c3e130d",
   "metadata": {},
   "outputs": [
    {
     "name": "stdout",
     "output_type": "stream",
     "text": [
      "(179, 179, 3)\n"
     ]
    }
   ],
   "source": [
    "#resize man's face to fit baby's face\n",
    "m_resize=cv2.resize(m_face,(int(m_face.shape[0]*1.433),int(m_face.shape[1]*1.433)))\n",
    "print(m_resize.shape)"
   ]
  },
  {
   "cell_type": "code",
   "execution_count": 20,
   "id": "a4dd77b0",
   "metadata": {},
   "outputs": [],
   "source": [
    "man[39:164, 78:203]=b_resize\n",
    "cv2.imshow('swap1', man)\n",
    "cv2.waitKey()\n",
    "cv2.destroyAllWindows()"
   ]
  },
  {
   "cell_type": "code",
   "execution_count": null,
   "id": "bfd9cc3f",
   "metadata": {},
   "outputs": [],
   "source": []
  },
  {
   "cell_type": "code",
   "execution_count": null,
   "id": "474736b5",
   "metadata": {},
   "outputs": [],
   "source": [
    "baby[46:225,30:209]=m_resize\n",
    "cv2.imshow('swap2', baby)\n",
    "cv2.waitKey()\n",
    "cv2.destroyAllWindows()"
   ]
  },
  {
   "cell_type": "code",
   "execution_count": null,
   "id": "8707b023",
   "metadata": {},
   "outputs": [],
   "source": []
  }
 ],
 "metadata": {
  "kernelspec": {
   "display_name": "Python 3",
   "language": "python",
   "name": "python3"
  },
  "language_info": {
   "codemirror_mode": {
    "name": "ipython",
    "version": 3
   },
   "file_extension": ".py",
   "mimetype": "text/x-python",
   "name": "python",
   "nbconvert_exporter": "python",
   "pygments_lexer": "ipython3",
   "version": "3.8.8"
  }
 },
 "nbformat": 4,
 "nbformat_minor": 5
}
