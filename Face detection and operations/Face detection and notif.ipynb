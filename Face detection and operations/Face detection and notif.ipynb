{
 "cells": [
  {
   "cell_type": "code",
   "execution_count": 1,
   "id": "8a5420b3",
   "metadata": {},
   "outputs": [],
   "source": [
    "import cv2 \n",
    "import numpy as np\n",
    "face_classifier = cv2.CascadeClassifier('haarcascade_frontalface_default.xml')"
   ]
  },
  {
   "cell_type": "code",
   "execution_count": 2,
   "id": "2ddfc555",
   "metadata": {},
   "outputs": [
    {
     "name": "stderr",
     "output_type": "stream",
     "text": [
      "<>:6: SyntaxWarning: \"is\" with a literal. Did you mean \"==\"?\n",
      "<>:6: SyntaxWarning: \"is\" with a literal. Did you mean \"==\"?\n",
      "<ipython-input-2-be143227d5f0>:6: SyntaxWarning: \"is\" with a literal. Did you mean \"==\"?\n",
      "  if face is ():\n"
     ]
    },
    {
     "name": "stdout",
     "output_type": "stream",
     "text": [
      "Face not found\n",
      "Face not found\n",
      "Dataset Collected\n"
     ]
    }
   ],
   "source": [
    "def face_extractor(img):\n",
    "    grayscale_img = cv2.cvtColor(img, cv2.COLOR_BGR2GRAY) \n",
    "    face = face_classifier.detectMultiScale(grayscale_img, scaleFactor=1.3, minNeighbors=5, minSize=(30, 30), \n",
    "                                            flags=cv2.CASCADE_SCALE_IMAGE) \n",
    "    \n",
    "    if face is ():\n",
    "        return None\n",
    "    \n",
    "    for (x,y,w,h) in face:\n",
    "        cropped_face = img [y:y+h, x:x+w]\n",
    "        \n",
    "    return cropped_face\n",
    "    \n",
    "cap = cv2.VideoCapture(0)\n",
    "count=0\n",
    "\n",
    "while True:\n",
    "    ret, frame = cap.read()\n",
    "    if face_extractor(frame) is not None:\n",
    "        count += 1 \n",
    "        face = cv2.resize(face_extractor(frame), (200, 200)) \n",
    "        face = cv2.cvtColor(face, cv2.COLOR_BGR2GRAY)\n",
    "        \n",
    "        file_name_path = './face_detection_data/' + str(count) + '.jpg' \n",
    "        cv2.imwrite(file_name_path, face)\n",
    "        \n",
    "        cv2.putText(face, str(count), (50, 50), cv2.FONT_HERSHEY_COMPLEX, 1, (0,255,0), 2) \n",
    "        cv2.imshow('Face', face)\n",
    "    else:\n",
    "        print(\"Face not found\") \n",
    "        pass\n",
    "    if cv2.waitKey(1) == 13 or count == 200:\n",
    "        break\n",
    "cap. release()\n",
    "cv2.destroyAllWindows()\n",
    "print(\"Dataset Collected\")"
   ]
  },
  {
   "cell_type": "code",
   "execution_count": 3,
   "id": "595cd6d0",
   "metadata": {},
   "outputs": [
    {
     "name": "stdout",
     "output_type": "stream",
     "text": [
      "Model trained sucessefully\n"
     ]
    }
   ],
   "source": [
    "import cv2\n",
    "from PIL import Image\n",
    "import numpy as np\n",
    "from os import listdir\n",
    "from os.path import isfile, join\n",
    "\n",
    "\n",
    "data_path = './face_detection_data/'\n",
    "onlyfiles = [f for f in listdir(data_path) if isfile(join(data_path, f))]\n",
    "\n",
    "Training_Data, Labels = [], []\n",
    "\n",
    "\n",
    "for i, files in enumerate(onlyfiles):\n",
    "    image_path = data_path + onlyfiles[i]\n",
    "    images = cv2.imread(image_path, cv2.IMREAD_GRAYSCALE)\n",
    "    Training_Data.append(np.asarray(images, dtype=np.uint8))\n",
    "    Labels.append(i)\n",
    "\n",
    "\n",
    "Labels = np.asarray(Labels, dtype=np.int32)\n",
    "\n",
    "model  = cv2.face.LBPHFaceRecognizer_create()\n",
    "\n",
    "model.train(np.asarray(Training_Data), np.asarray(Labels))\n",
    "\n",
    "print(\"Model trained sucessefully\")"
   ]
  },
  {
   "cell_type": "code",
   "execution_count": 4,
   "id": "88f11c6e",
   "metadata": {},
   "outputs": [
    {
     "name": "stderr",
     "output_type": "stream",
     "text": [
      "<>:13: SyntaxWarning: \"is\" with a literal. Did you mean \"==\"?\n",
      "<>:13: SyntaxWarning: \"is\" with a literal. Did you mean \"==\"?\n",
      "<ipython-input-4-08e5c773a1d8>:13: SyntaxWarning: \"is\" with a literal. Did you mean \"==\"?\n",
      "  if faces is ():\n"
     ]
    },
    {
     "name": "stdout",
     "output_type": "stream",
     "text": [
      "Message sent!\n",
      "Email sent Successfully!\n"
     ]
    }
   ],
   "source": [
    "import cv2\n",
    "import numpy as np\n",
    "import os\n",
    "import pywhatkit\n",
    "import time\n",
    "\n",
    "face_classifier = cv2.CascadeClassifier('haarcascade_frontalface_default.xml')\n",
    "\n",
    "def face_detector(img, size=0.5):\n",
    "    \n",
    "    gray = cv2.cvtColor(img,cv2.COLOR_BGR2GRAY)\n",
    "    faces = face_classifier.detectMultiScale(gray, 1.3, 5)\n",
    "    if faces is ():\n",
    "        return img, []\n",
    "    \n",
    "    \n",
    "    for (x,y,w,h) in faces:\n",
    "        cv2.rectangle(img,(x,y),(x+w,y+h),(0,255,255),2)\n",
    "        roi = img[y:y+h, x:x+w]\n",
    "        roi = cv2.resize(roi, (200, 200))\n",
    "    return img, roi\n",
    "\n",
    "cap = cv2.VideoCapture(0)\n",
    "\n",
    "while True:\n",
    "\n",
    "    ret, frame = cap.read()    \n",
    "    image, face = face_detector(frame)\n",
    "    \n",
    "    try:\n",
    "        face = cv2.cvtColor(face, cv2.COLOR_BGR2GRAY)\n",
    "        result = model.predict(face)\n",
    "        \n",
    "        if result[1] < 500:\n",
    "            confidence = int( 100 * (1 - (result[1])/400) )\n",
    "            display_string = str(confidence) + '% Confident it is User'\n",
    "            \n",
    "        cv2.putText(image, display_string, (100, 120), cv2.FONT_HERSHEY_COMPLEX, 1, (255,120,150), 2)\n",
    "        \n",
    "        if confidence > 90:\n",
    "            cv2.putText(images, \"Hey Anjali!\", (250, 450), cv2.FONT_HERSHEY_COMPLEX, 1, (0,255,0), 2)\n",
    "            cv2.imshow('Face Recognition', images)\n",
    "            pywhatkit.sendwhatmsg_instantly(phone_no=\"<contact>\", message=\"Message sent by Face Recognition Model\")\n",
    "            print(\"Message sent!\")\n",
    "            pywhatkit.send_mail(\"<receiver's mail id>\", \"<password>\", \"Face Recognition\", \"User recognised!This is face of Anjali Singh\", \"<sender's mail id>\")\n",
    "            break\n",
    "            \n",
    "        else:\n",
    "            os.system(\"aws ec2 run-instances --image-id ami-04db49c0fb2215364 --count 1 --instance-type t2.micro --security-group-ids sg-dd8257a1 --subnet-id subnet-82e317e9 --key-name awstraining2021\")\n",
    "            print(\"Instance Launched\")\n",
    "            \n",
    "            os.system(\"aws ec2 create-volume --volume-type gp2 --availability-zone ap-south-1a --size 5  --tag-specification  ResourceType=volume,Tags=[{Key=face,Value=volume}] \")\n",
    "            print(\"Volume created\")\n",
    "            time.sleep(60)\n",
    "            os.system(\"aws  ec2   attach-volume --instance-id i-0e44392ff4025a04e --volume-id  vol-0cb2cf0867c30f781 --device /dev/sdf\")\n",
    "            print(\"Volume attached\")\n",
    "            break\n",
    "            \n",
    "    except:\n",
    "        cv2.putText(image, \"No Face Found\", (220, 120) , cv2.FONT_HERSHEY_COMPLEX, 1, (0,0,255), 2)\n",
    "        cv2.putText(image, \"Looking for face\", (250, 450), cv2.FONT_HERSHEY_COMPLEX, 1, (0,0,255), 2)\n",
    "        cv2.imshow('Face Recognition', image )\n",
    "        pass\n",
    "    if cv2.waitKey(1) == 13:\n",
    "        break\n",
    "        \n",
    "cap.release()\n",
    "cv2.destroyAllWindows()"
   ]
  },
  {
   "cell_type": "code",
   "execution_count": null,
   "id": "548fbaef",
   "metadata": {},
   "outputs": [],
   "source": []
  },
  {
   "cell_type": "code",
   "execution_count": null,
   "id": "5e6b7d94",
   "metadata": {},
   "outputs": [],
   "source": []
  },
  {
   "cell_type": "code",
   "execution_count": null,
   "id": "aa995a74",
   "metadata": {},
   "outputs": [],
   "source": []
  },
  {
   "cell_type": "code",
   "execution_count": null,
   "id": "ec7f0519",
   "metadata": {},
   "outputs": [],
   "source": []
  }
 ],
 "metadata": {
  "kernelspec": {
   "display_name": "Python 3",
   "language": "python",
   "name": "python3"
  },
  "language_info": {
   "codemirror_mode": {
    "name": "ipython",
    "version": 3
   },
   "file_extension": ".py",
   "mimetype": "text/x-python",
   "name": "python",
   "nbconvert_exporter": "python",
   "pygments_lexer": "ipython3",
   "version": "3.8.8"
  }
 },
 "nbformat": 4,
 "nbformat_minor": 5
}
